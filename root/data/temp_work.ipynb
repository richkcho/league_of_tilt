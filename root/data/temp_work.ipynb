{
 "cells": [
  {
   "cell_type": "code",
   "execution_count": 1,
   "metadata": {
    "collapsed": true
   },
   "outputs": [],
   "source": [
    "from os import listdir\n",
    "from os.path import isfile, join\n",
    "\n",
    "statdir = \"playerstats\"\n",
    "files = [join(statdir, f) for f in listdir(statdir) if isfile(join(statdir, f))]"
   ]
  },
  {
   "cell_type": "code",
   "execution_count": 2,
   "metadata": {
    "collapsed": true
   },
   "outputs": [],
   "source": [
    "import json\n",
    "\n",
    "playerdata = []\n",
    "for jf in files:\n",
    "    with open(jf) as f:\n",
    "        playerdata.append(json.load(f))"
   ]
  },
  {
   "cell_type": "code",
   "execution_count": 36,
   "metadata": {
    "collapsed": false
   },
   "outputs": [],
   "source": [
    "flatdata = [item for sublist in playerdata for item in sublist]"
   ]
  },
  {
   "cell_type": "code",
   "execution_count": 83,
   "metadata": {
    "collapsed": false
   },
   "outputs": [],
   "source": [
    "import numpy as np\n",
    "\n",
    "ignorethese = ('MatchID', 'Lane', 'Role')\n",
    "\n",
    "def filterdata(data, lane, role):\n",
    "    return filter(lambda stat: (lane == \"ANY\" or stat[\"Lane\"] == lane) and \n",
    "                                    (role == \"ANY\" or stat[\"Role\"] == role), \n",
    "                                   data)\n",
    "\n",
    "def createAvgStats(stats, lane, role):\n",
    "    avgstats = {}\n",
    "    filteredstats = filterdata(stats, lane, role)\n",
    "    if len(filteredstats) == 0:\n",
    "        return None\n",
    "    for stat in filteredstats:\n",
    "        for key in stat:\n",
    "            if key not in ignorethese:\n",
    "                if key in avgstats:\n",
    "                    avgstats[key] += stat[key]\n",
    "                else:\n",
    "                    avgstats[key] = stat[key]\n",
    "    for key in avgstats:\n",
    "        avgstats[key] /= float(len(filteredstats))\n",
    "    avgstats[\"Lane\"] = lane\n",
    "    avgstats[\"Role\"] = role\n",
    "    return avgstats\n",
    "\n",
    "def createPlayersAvgStats(playerdata, lane, role):\n",
    "    arr = []\n",
    "    for p in playerdata:\n",
    "        ap = createAvgStats(p, lane, role)\n",
    "        if ap:\n",
    "            ap[\"GamesPlayed\"] = len(filterdata(p, lane, role))\n",
    "            arr.append(ap)\n",
    "    return createAvgStats(arr, lane, role)\n",
    "\n",
    "def createStatsDistribution(stats, lane, role):\n",
    "    statdistribution = {}\n",
    "    filteredstats = filterdata(stats, lane, role)\n",
    "    if len(filteredstats) == 0:\n",
    "        return None\n",
    "    for stat in filteredstats:\n",
    "        for key in stat:\n",
    "            if key not in ignorethese:\n",
    "                if key in statdistribution:\n",
    "                    statdistribution[key].append(stat[key])\n",
    "                else:\n",
    "                    statdistribution[key] = [stat[key]]\n",
    "        \n",
    "    statdistribution[\"Lane\"] = lane\n",
    "    statdistribution[\"Role\"] = role\n",
    "    return statdistribution\n",
    "\n",
    "def createStdStats(stats, lane, role):\n",
    "    sd = createStatsDistribution(stats, lane, role)\n",
    "    \n",
    "    if sd == None:\n",
    "        return None\n",
    "    \n",
    "    stds = {}\n",
    "    for key in sd:\n",
    "        if key == \"Lane\" or key == \"Role\":\n",
    "            stds[key] = sd[key]\n",
    "        else:\n",
    "            stds[key] = np.std(sd[key])\n",
    "    \n",
    "    return stds\n",
    "\n",
    "def createPlayersStdStats(playerdata, lane, role):\n",
    "    arr = []\n",
    "    for p in playerdata:\n",
    "        ap = createAvgStats(p, lane, role)\n",
    "        if ap:\n",
    "            ap[\"GamesPlayed\"] = len(filterdata(p, lane, role))\n",
    "            arr.append(ap)\n",
    "    return createStdStats(arr, lane, role)"
   ]
  },
  {
   "cell_type": "code",
   "execution_count": 84,
   "metadata": {
    "collapsed": false
   },
   "outputs": [],
   "source": [
    "useflat = False\n",
    "avgstatdata = []\n",
    "if(not useflat):\n",
    "    avgstatdata.append(createPlayersAvgStats(playerdata, \"TOP\", \"SOLO\"))\n",
    "    avgstatdata.append(createPlayersAvgStats(playerdata, \"JUNGLE\", \"NONE\"))\n",
    "    avgstatdata.append(createPlayersAvgStats(playerdata, \"MIDDLE\", \"SOLO\"))\n",
    "    avgstatdata.append(createPlayersAvgStats(playerdata, \"BOTTOM\", \"DUO_CARRY\"))\n",
    "    avgstatdata.append(createPlayersAvgStats(playerdata, \"BOTTOM\", \"DUO_SUPPORT\"))\n",
    "    avgstatdata.append(createPlayersAvgStats(playerdata, \"ANY\", \"ANY\"))\n",
    "else:\n",
    "    avgstatdata.append(createAvgStats(flatdata, \"TOP\", \"SOLO\"))\n",
    "    avgstatdata.append(createAvgStats(flatdata, \"JUNGLE\", \"NONE\"))\n",
    "    avgstatdata.append(createAvgStats(flatdata, \"MIDDLE\", \"SOLO\"))\n",
    "    avgstatdata.append(createAvgStats(flatdata, \"BOTTOM\", \"DUO_CARRY\"))\n",
    "    avgstatdata.append(createAvgStats(flatdata, \"BOTTOM\", \"DUO_SUPPORT\"))\n",
    "    avgstatdata.append(createAvgStats(flatdata, \"ANY\", \"ANY\"))"
   ]
  },
  {
   "cell_type": "code",
   "execution_count": 85,
   "metadata": {
    "collapsed": false
   },
   "outputs": [],
   "source": [
    "with open('player_stats_mean.json', 'w') as f:\n",
    "    json.dump(avgstatdata, f)"
   ]
  },
  {
   "cell_type": "code",
   "execution_count": 86,
   "metadata": {
    "collapsed": false
   },
   "outputs": [],
   "source": [
    "stddata = []\n",
    "if(not useflat):\n",
    "    stddata.append(createPlayersStdStats(playerdata, \"TOP\", \"SOLO\"))\n",
    "    stddata.append(createPlayersStdStats(playerdata, \"JUNGLE\", \"NONE\"))\n",
    "    stddata.append(createPlayersStdStats(playerdata, \"MIDDLE\", \"SOLO\"))\n",
    "    stddata.append(createPlayersStdStats(playerdata, \"BOTTOM\", \"DUO_CARRY\"))\n",
    "    stddata.append(createPlayersStdStats(playerdata, \"BOTTOM\", \"DUO_SUPPORT\"))\n",
    "    stddata.append(createPlayersStdStats(playerdata, \"ANY\", \"ANY\"))\n",
    "else:\n",
    "    stddata.append(createStdStats(flatdata, \"TOP\", \"SOLO\"))\n",
    "    stddata.append(createStdStats(flatdata, \"JUNGLE\", \"NONE\"))\n",
    "    stddata.append(createStdStats(flatdata, \"MIDDLE\", \"SOLO\"))\n",
    "    stddata.append(createStdStats(flatdata, \"BOTTOM\", \"DUO_CARRY\"))\n",
    "    stddata.append(createStdStats(flatdata, \"BOTTOM\", \"DUO_SUPPORT\"))\n",
    "    stddata.append(createStdStats(flatdata, \"ANY\", \"ANY\"))"
   ]
  },
  {
   "cell_type": "code",
   "execution_count": 87,
   "metadata": {
    "collapsed": false
   },
   "outputs": [],
   "source": [
    "with open('player_stats_std.json', 'w') as f:\n",
    "    json.dump(stddata, f)"
   ]
  },
  {
   "cell_type": "code",
   "execution_count": 18,
   "metadata": {
    "collapsed": false
   },
   "outputs": [],
   "source": [
    "allgames = [item for sublist in playerdata for item in sublist]"
   ]
  },
  {
   "cell_type": "code",
   "execution_count": 22,
   "metadata": {
    "collapsed": false
   },
   "outputs": [
    {
     "name": "stdout",
     "output_type": "stream",
     "text": [
      "24890\n",
      "24973\n",
      "22636\n",
      "23248\n"
     ]
    }
   ],
   "source": [
    "print len(filterdata(allgames, \"TOP\", \"SOLO\"))\n",
    "print len(filterdata(allgames, \"TOP\", \"ANY\"))\n",
    "print len(filterdata(allgames, \"MIDDLE\", \"SOLO\"))\n",
    "print len(filterdata(allgames, \"MIDDLE\", \"ANY\"))"
   ]
  },
  {
   "cell_type": "code",
   "execution_count": 23,
   "metadata": {
    "collapsed": false
   },
   "outputs": [
    {
     "data": {
      "text/plain": [
       "113195"
      ]
     },
     "execution_count": 23,
     "metadata": {},
     "output_type": "execute_result"
    }
   ],
   "source": [
    "len(allgames)"
   ]
  }
 ],
 "metadata": {
  "kernelspec": {
   "display_name": "Python 2",
   "language": "python",
   "name": "python2"
  },
  "language_info": {
   "codemirror_mode": {
    "name": "ipython",
    "version": 2
   },
   "file_extension": ".py",
   "mimetype": "text/x-python",
   "name": "python",
   "nbconvert_exporter": "python",
   "pygments_lexer": "ipython2",
   "version": "2.7.10"
  }
 },
 "nbformat": 4,
 "nbformat_minor": 0
}
