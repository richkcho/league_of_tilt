{
 "cells": [
  {
   "cell_type": "code",
   "execution_count": 3,
   "metadata": {
    "collapsed": true
   },
   "outputs": [],
   "source": [
    "from os import listdir\n",
    "from os.path import isfile, join\n",
    "\n",
    "statdir = \"playerstats\"\n",
    "files = [join(statdir, f) for f in listdir(statdir) if isfile(join(statdir, f))]"
   ]
  },
  {
   "cell_type": "code",
   "execution_count": 5,
   "metadata": {
    "collapsed": true
   },
   "outputs": [],
   "source": [
    "import json\n",
    "\n",
    "jsons = []\n",
    "for jf in files:\n",
    "    with open(jf) as f:\n",
    "        jsons.append()"
   ]
  },
  {
   "cell_type": "code",
   "execution_count": 12,
   "metadata": {
    "collapsed": false
   },
   "outputs": [],
   "source": [
    "stats = []\n",
    "for playerstats in jsons:\n",
    "    for playerstat in playerstats:\n",
    "        stats.append(playerstat)"
   ]
  },
  {
   "cell_type": "code",
   "execution_count": 101,
   "metadata": {
    "collapsed": false
   },
   "outputs": [],
   "source": [
    "import numpy as np\n",
    "\n",
    "ignorethese = ('MatchID', 'Lane', 'Role')\n",
    "\n",
    "def filterdata(data, lane, role):\n",
    "    return filter(lambda stat: (lane == \"ANY\" or stat[\"Lane\"] == lane) and \n",
    "                                    (role == \"ANY\" or stat[\"Role\"] == role), \n",
    "                                   data)\n",
    "\n",
    "def createAvgStats(stats, lane, role):\n",
    "    avgstats = {}\n",
    "    filteredstats = \n",
    "    for stat in filteredstats:\n",
    "        for key in stat:\n",
    "            if key not in ignorethese:\n",
    "                if key in avgstats:\n",
    "                    avgstats[key] += stat[key]\n",
    "                else:\n",
    "                    avgstats[key] = stat[key]\n",
    "    for key in avgstats:\n",
    "        avgstats[key] /= float(len(filteredstats))\n",
    "    avgstats[\"Lane\"] = lane\n",
    "    avgstats[\"Role\"] = role\n",
    "    return avgstats\n",
    "\n",
    "def createStatsDistribution(stats, lane, role):\n",
    "    statdistribution = {}\n",
    "    filteredstats = filter(lambda stat: (lane == \"ANY\" or stat[\"Lane\"] == lane) and \n",
    "                                        (role == \"ANY\" or stat[\"Role\"] == role), \n",
    "                           stats)\n",
    "    for stat in filteredstats:\n",
    "        statdistribution['Assists'].append(stat['Assists'])\n",
    "        statdistribution['Deaths'].append(stat['Deaths'])\n",
    "        statdistribution['GameDuration'].append(stat['GameDuration'])\n",
    "        statdistribution['GoldEarned'].append(stat['GoldEarned'])\n",
    "        statdistribution['Kills'].append(stat['Kills'])\n",
    "        statdistribution['WinRate'].append(int(stat['Winner']))\n",
    "        \n",
    "    statdistribution[\"Lane\"] = lane\n",
    "    statdistribution[\"Role\"] = role\n",
    "    return statdistribution\n",
    "\n",
    "def createStdStats(stats, lane, role):\n",
    "    sd = createStatsDistribution(stats, lane, role)\n",
    "    \n",
    "    stds = {}\n",
    "    for key in sd:\n",
    "        if key == \"Lane\" or key == \"Role\":\n",
    "            stds[key] = sd[key]\n",
    "        else:\n",
    "            stds[key] = np.std(sd[key])\n",
    "    \n",
    "    return stds"
   ]
  },
  {
   "cell_type": "code",
   "execution_count": 102,
   "metadata": {
    "collapsed": false
   },
   "outputs": [],
   "source": [
    "avgstatdata = []\n",
    "avgstatdata.append(createAvgStats(stats, \"TOP\", \"SOLO\"))\n",
    "avgstatdata.append(createAvgStats(stats, \"JUNGLE\", \"NONE\"))\n",
    "avgstatdata.append(createAvgStats(stats, \"MIDDLE\", \"SOLO\"))\n",
    "avgstatdata.append(createAvgStats(stats, \"BOTTOM\", \"DUO_CARRY\"))\n",
    "avgstatdata.append(createAvgStats(stats, \"BOTTOM\", \"DUO_SUPPORT\"))\n",
    "avgstatdata.append(createAvgStats(stats, \"ANY\", \"ANY\"))"
   ]
  },
  {
   "cell_type": "code",
   "execution_count": 93,
   "metadata": {
    "collapsed": false
   },
   "outputs": [],
   "source": [
    "with open('player_stats_mean.json', 'w') as f:\n",
    "    json.dump(avgstatdata, f)"
   ]
  },
  {
   "cell_type": "code",
   "execution_count": 94,
   "metadata": {
    "collapsed": true
   },
   "outputs": [],
   "source": [
    "stddata = []\n",
    "stddata.append(createStdStats(stats, \"TOP\", \"SOLO\"))\n",
    "stddata.append(createStdStats(stats, \"JUNGLE\", \"NONE\"))\n",
    "stddata.append(createStdStats(stats, \"MIDDLE\", \"SOLO\"))\n",
    "stddata.append(createStdStats(stats, \"BOTTOM\", \"DUO_CARRY\"))\n",
    "stddata.append(createStdStats(stats, \"BOTTOM\", \"DUO_SUPPORT\"))\n",
    "stddata.append(createStdStats(stats, \"ANY\", \"ANY\"))"
   ]
  },
  {
   "cell_type": "code",
   "execution_count": 95,
   "metadata": {
    "collapsed": false
   },
   "outputs": [],
   "source": [
    "with open('player_stats_std.json', 'w') as f:\n",
    "    json.dump(stddata, f)"
   ]
  },
  {
   "cell_type": "code",
   "execution_count": 103,
   "metadata": {
    "collapsed": false
   },
   "outputs": [
    {
     "data": {
      "text/plain": [
       "5.031039499919168"
      ]
     },
     "execution_count": 103,
     "metadata": {},
     "output_type": "execute_result"
    }
   ],
   "source": [
    "avgstatdata[0][\"Deaths\"]"
   ]
  },
  {
   "cell_type": "code",
   "execution_count": null,
   "metadata": {
    "collapsed": true
   },
   "outputs": [],
   "source": []
  }
 ],
 "metadata": {
  "kernelspec": {
   "display_name": "Python 2",
   "language": "python",
   "name": "python2"
  },
  "language_info": {
   "codemirror_mode": {
    "name": "ipython",
    "version": 2
   },
   "file_extension": ".py",
   "mimetype": "text/x-python",
   "name": "python",
   "nbconvert_exporter": "python",
   "pygments_lexer": "ipython2",
   "version": "2.7.10"
  }
 },
 "nbformat": 4,
 "nbformat_minor": 0
}
