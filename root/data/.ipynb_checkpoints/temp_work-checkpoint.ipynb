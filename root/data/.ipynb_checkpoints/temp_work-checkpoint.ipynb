{
 "cells": [
  {
   "cell_type": "code",
   "execution_count": 1,
   "metadata": {
    "collapsed": true
   },
   "outputs": [],
   "source": [
    "from os import listdir\n",
    "from os.path import isfile, join\n",
    "\n",
    "statdir = \"playerstats\"\n",
    "files = [join(statdir, f) for f in listdir(statdir) if isfile(join(statdir, f))]"
   ]
  },
  {
   "cell_type": "code",
   "execution_count": 2,
   "metadata": {
    "collapsed": true
   },
   "outputs": [],
   "source": [
    "import json\n",
    "\n",
    "playerdata = []\n",
    "for jf in files:\n",
    "    with open(jf) as f:\n",
    "        playerdata.append(json.load(f))"
   ]
  },
  {
   "cell_type": "code",
   "execution_count": 36,
   "metadata": {
    "collapsed": false
   },
   "outputs": [],
   "source": [
    "flatdata = [item for sublist in playerdata for item in sublist]"
   ]
  },
  {
   "cell_type": "code",
   "execution_count": 66,
   "metadata": {
    "collapsed": false
   },
   "outputs": [],
   "source": [
    "import numpy as np\n",
    "\n",
    "ignorethese = ('MatchID', 'Lane', 'Role')\n",
    "\n",
    "def filterdata(data, lane, role):\n",
    "    return filter(lambda stat: (lane == \"ANY\" or stat[\"Lane\"] == lane) and \n",
    "                                    (role == \"ANY\" or stat[\"Role\"] == role), \n",
    "                                   data)\n",
    "\n",
    "def createAvgStats(stats, lane, role):\n",
    "    avgstats = {}\n",
    "    filteredstats = filterdata(stats, lane, role)\n",
    "    if len(filteredstats) == 0:\n",
    "        return None\n",
    "    for stat in filteredstats:\n",
    "        for key in stat:\n",
    "            if key not in ignorethese:\n",
    "                if key in avgstats:\n",
    "                    avgstats[key] += stat[key]\n",
    "                else:\n",
    "                    avgstats[key] = stat[key]\n",
    "    for key in avgstats:\n",
    "        avgstats[key] /= float(len(filteredstats))\n",
    "    avgstats[\"Lane\"] = lane\n",
    "    avgstats[\"Role\"] = role\n",
    "    return avgstats\n",
    "\n",
    "def createPlayersAvgStats(playerdata, lane, role):\n",
    "    arr = []\n",
    "    for p in playerdata:\n",
    "        ap = createAvgStats(p, lane, role)\n",
    "        if ap:\n",
    "            ap[\"GamesPlayed\"] = len(filterdata(p, lane, role))\n",
    "            arr.append(ap)\n",
    "    return createAvgStats(arr, lane, role)\n",
    "\n",
    "def createStatsDistribution(stats, lane, role):\n",
    "    statdistribution = {}\n",
    "    filteredstats = filterdata(stats, lane, role)\n",
    "    if len(filteredstats) == 0:\n",
    "        return None\n",
    "    for stat in filteredstats:\n",
    "        for key in stat:\n",
    "            if key not in ignorethese:\n",
    "                if key in statdistribution:\n",
    "                    statdistribution[key].append(stat[key])\n",
    "                else:\n",
    "                    statdistribution[key] = [stat[key]]\n",
    "        \n",
    "    statdistribution[\"Lane\"] = lane\n",
    "    statdistribution[\"Role\"] = role\n",
    "    return statdistribution\n",
    "\n",
    "def createStdStats(stats, lane, role):\n",
    "    sd = createStatsDistribution(stats, lane, role)\n",
    "    \n",
    "    if sd == None:\n",
    "        return None\n",
    "    \n",
    "    stds = {}\n",
    "    for key in sd:\n",
    "        if key == \"Lane\" or key == \"Role\":\n",
    "            stds[key] = sd[key]\n",
    "        else:\n",
    "            stds[key] = np.std(sd[key])\n",
    "    \n",
    "    return stds\n",
    "\n",
    "test = []\n",
    "def createPlayersStdStats(playerdata, lane, role):\n",
    "    arr = []\n",
    "    for p in playerdata:\n",
    "        ap = createAvgStats(p, lane, role)\n",
    "        if ap:\n",
    "            ap[\"GamesPlayed\"] = len(filterdata(p, lane, role))\n",
    "            arr.append(ap)\n",
    "            test.append(ap)\n",
    "    return createStdStats(arr, lane, role)"
   ]
  },
  {
   "cell_type": "code",
   "execution_count": 67,
   "metadata": {
    "collapsed": false
   },
   "outputs": [],
   "source": [
    "useflat = False\n",
    "avgstatdata = []\n",
    "if(not useflat):\n",
    "    avgstatdata.append(createPlayersAvgStats(playerdata, \"TOP\", \"SOLO\"))\n",
    "    avgstatdata.append(createPlayersAvgStats(playerdata, \"JUNGLE\", \"NONE\"))\n",
    "    avgstatdata.append(createPlayersAvgStats(playerdata, \"MIDDLE\", \"SOLO\"))\n",
    "    avgstatdata.append(createPlayersAvgStats(playerdata, \"BOTTOM\", \"DUO_CARRY\"))\n",
    "    avgstatdata.append(createPlayersAvgStats(playerdata, \"BOTTOM\", \"DUO_SUPPORT\"))\n",
    "    avgstatdata.append(createPlayersAvgStats(playerdata, \"ANY\", \"ANY\"))\n",
    "else:\n",
    "    avgstatdata.append(createAvgStats(flatdata, \"TOP\", \"SOLO\"))\n",
    "    avgstatdata.append(createAvgStats(flatdata, \"JUNGLE\", \"NONE\"))\n",
    "    avgstatdata.append(createAvgStats(flatdata, \"MIDDLE\", \"SOLO\"))\n",
    "    avgstatdata.append(createAvgStats(flatdata, \"BOTTOM\", \"DUO_CARRY\"))\n",
    "    avgstatdata.append(createAvgStats(flatdata, \"BOTTOM\", \"DUO_SUPPORT\"))\n",
    "    avgstatdata.append(createAvgStats(flatdata, \"ANY\", \"ANY\"))"
   ]
  },
  {
   "cell_type": "code",
   "execution_count": 68,
   "metadata": {
    "collapsed": false
   },
   "outputs": [],
   "source": [
    "with open('player_stats_mean.json', 'w') as f:\n",
    "    json.dump(avgstatdata, f)"
   ]
  },
  {
   "cell_type": "code",
   "execution_count": 69,
   "metadata": {
    "collapsed": false
   },
   "outputs": [
    {
     "name": "stdout",
     "output_type": "stream",
     "text": [
      "1031\n",
      "1065\n",
      "1069\n",
      "928\n",
      "951\n",
      "1100\n"
     ]
    }
   ],
   "source": [
    "stddata = []\n",
    "if(not useflat):\n",
    "    stddata.append(createPlayersStdStats(playerdata, \"TOP\", \"SOLO\"))\n",
    "    stddata.append(createPlayersStdStats(playerdata, \"JUNGLE\", \"NONE\"))\n",
    "    stddata.append(createPlayersStdStats(playerdata, \"MIDDLE\", \"SOLO\"))\n",
    "    stddata.append(createPlayersStdStats(playerdata, \"BOTTOM\", \"DUO_CARRY\"))\n",
    "    stddata.append(createPlayersStdStats(playerdata, \"BOTTOM\", \"DUO_SUPPORT\"))\n",
    "    stddata.append(createPlayersStdStats(playerdata, \"ANY\", \"ANY\"))\n",
    "else:\n",
    "    stddata.append(createStdStats(flatdata, \"TOP\", \"SOLO\"))\n",
    "    stddata.append(createStdStats(flatdata, \"JUNGLE\", \"NONE\"))\n",
    "    stddata.append(createStdStats(flatdata, \"MIDDLE\", \"SOLO\"))\n",
    "    stddata.append(createStdStats(flatdata, \"BOTTOM\", \"DUO_CARRY\"))\n",
    "    stddata.append(createStdStats(flatdata, \"BOTTOM\", \"DUO_SUPPORT\"))\n",
    "    stddata.append(createStdStats(flatdata, \"ANY\", \"ANY\"))"
   ]
  },
  {
   "cell_type": "code",
   "execution_count": 70,
   "metadata": {
    "collapsed": false
   },
   "outputs": [],
   "source": [
    "with open('player_stats_std.json', 'w') as f:\n",
    "    json.dump(stddata, f)"
   ]
  },
  {
   "cell_type": "code",
   "execution_count": 42,
   "metadata": {
    "collapsed": false
   },
   "outputs": [
    {
     "data": {
      "text/plain": [
       "[{u'Assists': 6.606256136905597,\n",
       "  u'Deaths': 4.894468602422032,\n",
       "  u'GameDuration': 1760.6407319087918,\n",
       "  u'GoldEarned': 11757.927806611493,\n",
       "  u'Kills': 5.207509234581755,\n",
       "  'Lane': 'TOP',\n",
       "  'Role': 'SOLO',\n",
       "  u'Winner': 0.5511136048378298},\n",
       " {u'Assists': 8.000953713123092,\n",
       "  u'Deaths': 4.478255340793489,\n",
       "  u'GameDuration': 1752.7450089013225,\n",
       "  u'GoldEarned': 11727.172399542218,\n",
       "  u'Kills': 6.358532553407935,\n",
       "  'Lane': 'JUNGLE',\n",
       "  'Role': 'NONE',\n",
       "  u'Winner': 0.557111520854527},\n",
       " {u'Assists': 6.828347485303723,\n",
       "  u'Deaths': 4.7145819725669496,\n",
       "  u'GameDuration': 1760.6028086218157,\n",
       "  u'GoldEarned': 12029.066378184194,\n",
       "  u'Kills': 6.293403004572175,\n",
       "  'Lane': 'MIDDLE',\n",
       "  'Role': 'SOLO',\n",
       "  u'Winner': 0.5551273677335075},\n",
       " {u'Assists': 6.880049136498302,\n",
       "  u'Deaths': 4.837253414264036,\n",
       "  u'GameDuration': 1771.922284847171,\n",
       "  u'GoldEarned': 12476.929619192138,\n",
       "  u'Kills': 6.524983741599827,\n",
       "  'Lane': 'BOTTOM',\n",
       "  'Role': 'DUO_CARRY',\n",
       "  u'Winner': 0.552731411229135},\n",
       " {u'Assists': 12.808465444995848,\n",
       "  u'Deaths': 4.501766852685037,\n",
       "  u'GameDuration': 1773.7248923475004,\n",
       "  u'GoldEarned': 8920.297043659606,\n",
       "  u'Kills': 1.6438488423735687,\n",
       "  'Lane': 'BOTTOM',\n",
       "  'Role': 'DUO_SUPPORT',\n",
       "  u'Winner': 0.5464498812443277},\n",
       " {u'Assists': 8.054196059191684,\n",
       "  u'Deaths': 4.676401559350801,\n",
       "  u'GameDuration': 1757.0168067784025,\n",
       "  u'GoldEarned': 11393.846965498038,\n",
       "  u'Kills': 5.274971491460698,\n",
       "  'Lane': 'ANY',\n",
       "  'Role': 'ANY',\n",
       "  u'Winner': 0.5513352604221916}]"
      ]
     },
     "execution_count": 42,
     "metadata": {},
     "output_type": "execute_result"
    }
   ],
   "source": [
    "avgstatdata"
   ]
  },
  {
   "cell_type": "code",
   "execution_count": 65,
   "metadata": {
    "collapsed": false
   },
   "outputs": [
    {
     "data": {
      "text/plain": [
       "[{u'Assists': 4.5449527927427296,\n",
       "  u'Deaths': 2.8064889921962695,\n",
       "  u'GameDuration': 429.32682368999446,\n",
       "  u'GoldEarned': 3504.7555645670009,\n",
       "  u'Kills': 3.6675256734270398,\n",
       "  'Lane': 'TOP',\n",
       "  'Role': 'SOLO',\n",
       "  u'Winner': 0.49738053781836122},\n",
       " {u'Assists': 4.9058109973897093,\n",
       "  u'Deaths': 2.7033999462696605,\n",
       "  u'GameDuration': 432.7423175812865,\n",
       "  u'GoldEarned': 3421.8429016437804,\n",
       "  u'Kills': 4.0686249502712553,\n",
       "  'Lane': 'JUNGLE',\n",
       "  'Role': 'NONE',\n",
       "  u'Winner': 0.49672756535719148},\n",
       " {u'Assists': 4.3689002243028696,\n",
       "  u'Deaths': 2.7832491453344348,\n",
       "  u'GameDuration': 429.84538287571593,\n",
       "  u'GoldEarned': 3559.577120721875,\n",
       "  u'Kills': 4.0414737055722947,\n",
       "  'Lane': 'MIDDLE',\n",
       "  'Role': 'SOLO',\n",
       "  u'Winner': 0.49695168107852761},\n",
       " {u'Assists': 4.1159304081798078,\n",
       "  u'Deaths': 2.6783611267317853,\n",
       "  u'GameDuration': 414.33965167274022,\n",
       "  u'GoldEarned': 3676.5851081462361,\n",
       "  u'Kills': 4.3294791722872574,\n",
       "  'Lane': 'BOTTOM',\n",
       "  'Role': 'DUO_CARRY',\n",
       "  u'Winner': 0.49721162322474299},\n",
       " {u'Assists': 6.6259579505464536,\n",
       "  u'Deaths': 2.6923702561446459,\n",
       "  u'GameDuration': 416.24835507116552,\n",
       "  u'GoldEarned': 2548.3602673116329,\n",
       "  u'Kills': 1.7015708590234251,\n",
       "  'Lane': 'BOTTOM',\n",
       "  'Role': 'DUO_SUPPORT',\n",
       "  u'Winner': 0.49783773313438973},\n",
       " {u'Assists': 5.4340619075970293,\n",
       "  u'Deaths': 2.7511527374035176,\n",
       "  u'GameDuration': 430.83147111897767,\n",
       "  u'GoldEarned': 3627.2918119486044,\n",
       "  u'Kills': 4.1156057501359973,\n",
       "  'Lane': 'ANY',\n",
       "  'Role': 'ANY',\n",
       "  u'Winner': 0.49735770933744028}]"
      ]
     },
     "execution_count": 65,
     "metadata": {},
     "output_type": "execute_result"
    }
   ],
   "source": [
    "stddata"
   ]
  },
  {
   "cell_type": "code",
   "execution_count": 118,
   "metadata": {
    "collapsed": true
   },
   "outputs": [],
   "source": [
    "distdata = createStatsDistribution(stats, \"ANY\", \"ANY\")"
   ]
  },
  {
   "cell_type": "code",
   "execution_count": 18,
   "metadata": {
    "collapsed": false
   },
   "outputs": [],
   "source": [
    "allgames = [item for sublist in playerdata for item in sublist]"
   ]
  },
  {
   "cell_type": "code",
   "execution_count": 22,
   "metadata": {
    "collapsed": false
   },
   "outputs": [
    {
     "name": "stdout",
     "output_type": "stream",
     "text": [
      "24890\n",
      "24973\n",
      "22636\n",
      "23248\n"
     ]
    }
   ],
   "source": [
    "print len(filterdata(allgames, \"TOP\", \"SOLO\"))\n",
    "print len(filterdata(allgames, \"TOP\", \"ANY\"))\n",
    "print len(filterdata(allgames, \"MIDDLE\", \"SOLO\"))\n",
    "print len(filterdata(allgames, \"MIDDLE\", \"ANY\"))"
   ]
  },
  {
   "cell_type": "code",
   "execution_count": 23,
   "metadata": {
    "collapsed": false
   },
   "outputs": [
    {
     "data": {
      "text/plain": [
       "113195"
      ]
     },
     "execution_count": 23,
     "metadata": {},
     "output_type": "execute_result"
    }
   ],
   "source": [
    "len(allgames)"
   ]
  },
  {
   "cell_type": "code",
   "execution_count": 32,
   "metadata": {
    "collapsed": false
   },
   "outputs": [],
   "source": [
    "lel = [x[\"GameDuration\"] for x in playerstats]"
   ]
  },
  {
   "cell_type": "code",
   "execution_count": 33,
   "metadata": {
    "collapsed": false
   },
   "outputs": [
    {
     "data": {
      "text/plain": [
       "1031"
      ]
     },
     "execution_count": 33,
     "metadata": {},
     "output_type": "execute_result"
    }
   ],
   "source": [
    "len(lel)"
   ]
  },
  {
   "cell_type": "code",
   "execution_count": 35,
   "metadata": {
    "collapsed": false
   },
   "outputs": [
    {
     "data": {
      "text/plain": [
       "173.84956272808506"
      ]
     },
     "execution_count": 35,
     "metadata": {},
     "output_type": "execute_result"
    }
   ],
   "source": [
    "np.std(lel)"
   ]
  },
  {
   "cell_type": "code",
   "execution_count": 74,
   "metadata": {
    "collapsed": false
   },
   "outputs": [
    {
     "name": "stdout",
     "output_type": "stream",
     "text": [
      "1100\n"
     ]
    },
    {
     "data": {
      "text/plain": [
       "1100"
      ]
     },
     "execution_count": 74,
     "metadata": {},
     "output_type": "execute_result"
    }
   ],
   "source": [
    "test = []\n",
    "createPlayersStdStats(playerdata, \"ANY\", \"ANY\")\n",
    "len(test)"
   ]
  },
  {
   "cell_type": "code",
   "execution_count": 76,
   "metadata": {
    "collapsed": false
   },
   "outputs": [],
   "source": [
    "asdf = [e[\"GameDuration\"] for e in test]"
   ]
  },
  {
   "cell_type": "code",
   "execution_count": null,
   "metadata": {
    "collapsed": true
   },
   "outputs": [],
   "source": []
  },
  {
   "cell_type": "code",
   "execution_count": null,
   "metadata": {
    "collapsed": true
   },
   "outputs": [],
   "source": []
  }
 ],
 "metadata": {
  "kernelspec": {
   "display_name": "Python 2",
   "language": "python",
   "name": "python2"
  },
  "language_info": {
   "codemirror_mode": {
    "name": "ipython",
    "version": 2
   },
   "file_extension": ".py",
   "mimetype": "text/x-python",
   "name": "python",
   "nbconvert_exporter": "python",
   "pygments_lexer": "ipython2",
   "version": "2.7.10"
  }
 },
 "nbformat": 4,
 "nbformat_minor": 0
}
